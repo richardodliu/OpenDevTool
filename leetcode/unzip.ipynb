{
 "cells": [
  {
   "cell_type": "code",
   "execution_count": 1,
   "metadata": {},
   "outputs": [
    {
     "name": "stdout",
     "output_type": "stream",
     "text": [
      "解压完成，已生成 /home/ma-user/work/liurb/raw_leetcode/en/leetcode_question_problem_solution_list_0.jsonl\n",
      "解压完成，已生成 /home/ma-user/work/liurb/raw_leetcode/en/leetcode_question_problem_solution_list_1.jsonl\n",
      "解压完成，已生成 /home/ma-user/work/liurb/raw_leetcode/en/leetcode_question_problem_solution_list_2.jsonl\n",
      "解压完成，已生成 /home/ma-user/work/liurb/raw_leetcode/en/leetcode_question_problem_solution_list_3.jsonl\n",
      "解压完成，已生成 /home/ma-user/work/liurb/raw_leetcode/en/leetcode_question_problem_solution_list_4.jsonl\n",
      "解压完成，已生成 /home/ma-user/work/liurb/raw_leetcode/en/leetcode_question_problem_solution_list_5.jsonl\n",
      "解压完成，已生成 /home/ma-user/work/liurb/raw_leetcode/en/leetcode_question_problem_solution_list_6.jsonl\n",
      "解压完成，已生成 /home/ma-user/work/liurb/raw_leetcode/en/leetcode_question_problem_solution_list_7.jsonl\n",
      "解压完成，已生成 /home/ma-user/work/liurb/raw_leetcode/en/leetcode_question_problem_solution_list_8.jsonl\n",
      "解压完成，已生成 /home/ma-user/work/liurb/raw_leetcode/en/leetcode_question_problem_solution_list_9.jsonl\n",
      "解压完成，已生成 /home/ma-user/work/liurb/raw_leetcode/en/leetcode_question_problem_solution_list_10.jsonl\n"
     ]
    }
   ],
   "source": [
    "import gzip\n",
    "\n",
    "for i in range(11):\n",
    "    input_file = f\"/home/ma-user/work/liurb/raw_leetcode/en/leetcode_question_problem_solution_list/20241129130545672g3a7j1opyz1_M1_1_{i}_0-0_TableSink1-0\"  # 原文件名\n",
    "    output_file = f\"/home/ma-user/work/liurb/raw_leetcode/en/leetcode_question_problem_solution_list_{i}.jsonl\"  # 解压后文件名\n",
    "\n",
    "    with gzip.open(input_file, 'rt', encoding='utf-8') as f_in, open(output_file, 'w', encoding='utf-8') as f_out:\n",
    "        for line in f_in:\n",
    "            f_out.write(line)\n",
    "\n",
    "    print(f\"解压完成，已生成 {output_file}\")"
   ]
  },
  {
   "cell_type": "code",
   "execution_count": 2,
   "metadata": {},
   "outputs": [],
   "source": [
    "from utils import *\n",
    "\n",
    "leetcode_en_solutions = []\n",
    "\n",
    "for i in range(11):\n",
    "    leetcode_en_solutions.extend(list(stream_jsonl(f\"/home/ma-user/work/liurb/raw_leetcode/en/leetcode_question_problem_solution_list_{i}.jsonl\")))\n",
    "\n",
    "write_jsonl(\"leetcode_en_solutions.jsonl\", leetcode_en_solutions)"
   ]
  },
  {
   "cell_type": "code",
   "execution_count": 4,
   "metadata": {},
   "outputs": [],
   "source": [
    "from utils import *\n",
    "\n",
    "leetcode_en_solutions = list(stream_jsonl(\"leetcode_en_solutions.jsonl\"))"
   ]
  },
  {
   "cell_type": "code",
   "execution_count": 5,
   "metadata": {},
   "outputs": [
    {
     "data": {
      "text/plain": [
       "911270"
      ]
     },
     "execution_count": 5,
     "metadata": {},
     "output_type": "execute_result"
    }
   ],
   "source": [
    "len(leetcode_en_solutions)"
   ]
  },
  {
   "cell_type": "code",
   "execution_count": 9,
   "metadata": {},
   "outputs": [
    {
     "data": {
      "text/plain": [
       "{'src_id': '414181',\n",
       " 'src_url': 'https://leetcode.com/problems/circular-permutation-in-binary-representation/solutions/414181/java-dfs-using-xor/',\n",
       " 'title': 'Java DFS using XOR',\n",
       " 'json_': '{\"commentCount\":2,\"details\":{\"topic\":{\"commentCount\":2,\"hideFromTrending\":false,\"id\":414181,\"isFavorite\":false,\"pinned\":false,\"post\":{\"author\":{\"isActive\":true,\"isDiscussAdmin\":false,\"isDiscussStaff\":false,\"profile\":{\"reputation\":336,\"userAvatar\":\"https://assets.leetcode.com/users/gepeilu/avatar_1566777440.png\"},\"username\":\"FrankLu321\"},\"authorIsModerator\":false,\"content\":\"1 use hashset to avoid duplicate \\\\\\\\n2 when adding all elements, return true to end dfs\\\\\\\\n3 otherwise use backtracking to search \\\\\\\\n\\\\\\\\n```\\\\\\\\nclass Solution {\\\\\\\\n    public List<Integer> circularPermutation(int n, int start) {\\\\\\\\n        List<Integer> ans = new ArrayList<>();\\\\\\\\n        Set<Integer> set = new HashSet<>();\\\\\\\\n        ans.add(start);\\\\\\\\n        set.add(start);\\\\\\\\n        dfs(start, n, set, ans);\\\\\\\\n        return ans;\\\\\\\\n    }\\\\\\\\n    \\\\\\\\n    private boolean dfs(int start, int n, Set<Integer> set, List<Integer> ans) {\\\\\\\\n        if (set.size() == Math.pow(2, n)) {\\\\\\\\n            return true;\\\\\\\\n        }\\\\\\\\n        \\\\\\\\n        \\\\\\\\n        for (int i = 0; i < n; i++) {\\\\\\\\n            int temp = start ^ (1 << i);\\\\\\\\n            if (set.contains(temp)) {\\\\\\\\n                continue;\\\\\\\\n            }\\\\\\\\n            \\\\\\\\n            set.add(temp);\\\\\\\\n            ans.add(temp);\\\\\\\\n            if (dfs(temp, n, set, ans)) {\\\\\\\\n                return true;\\\\\\\\n            } else {\\\\\\\\n                set.remove(temp);\\\\\\\\n                ans.remove(ans.size() - 1);\\\\\\\\n            }\\\\\\\\n        }\\\\\\\\n        \\\\\\\\n        return false;\\\\\\\\n    }\\\\\\\\n}\\\\\\\\n```\",\"creationDate\":1.572149316E9,\"id\":788186,\"isOwnPost\":false,\"updationDate\":1.572149316E9,\"voteCount\":1,\"voteStatus\":0},\"solutionTags\":[],\"subscribed\":false,\"title\":\"Java DFS using XOR\",\"topLevelCommentCount\":1,\"viewCount\":220}},\"id\":414181,\"isFavorite\":false,\"order_by\":\"hot\",\"pinned\":false,\"post\":{\"author\":{\"isActive\":true,\"profile\":{\"reputation\":336,\"userAvatar\":\"https://assets.leetcode.com/users/gepeilu/avatar_1566777440.png\"},\"username\":\"FrankLu321\"},\"creationDate\":1.572149316E9,\"id\":788186,\"voteCount\":1,\"voteStatus\":0},\"solutionTags\":[],\"title\":\"Java DFS using XOR\",\"title_slug\":\"java-dfs-using-xor\",\"topLevelCommentCount\":1,\"viewCount\":220}',\n",
       " 'author': 'FrankLu321'}"
      ]
     },
     "execution_count": 9,
     "metadata": {},
     "output_type": "execute_result"
    }
   ],
   "source": [
    "leetcode_en_solutions[1]"
   ]
  },
  {
   "cell_type": "code",
   "execution_count": 10,
   "metadata": {},
   "outputs": [
    {
     "data": {
      "text/plain": [
       "'{\"commentCount\":0,\"details\":{\"topic\":{\"commentCount\":0,\"hideFromTrending\":false,\"id\":968230,\"isFavorite\":false,\"pinned\":false,\"post\":{\"author\":{\"activeBadge\":{\"displayName\":\"Jun LeetCoding Challenge\",\"icon\":\"/static/images/badges/dcc-2021-6.png\"},\"isActive\":true,\"isDiscussAdmin\":false,\"isDiscussStaff\":false,\"profile\":{\"reputation\":35,\"userAvatar\":\"https://assets.leetcode.com/users/bobrog/avatar_1601816923.png\"},\"username\":\"michelusa\"},\"authorIsModerator\":false,\"content\":\"To get this problem, it is useful to know about generate binary gray code sequence (https://en.wikipedia.org/wiki/Gray_code). To start the sequence at start, we can add the \\\\\"start ^\\\\\" in front of the gray code formula.\\\\\\\\nSo mostly a question if you know the trick it seems ;) \\\\\\\\n```\\\\\\\\n    vector<int> circularPermutation(const int n, const int start) const {\\\\\\\\n        const auto  N {1 << n}; \\\\\\\\n\\\\\\\\n        vector <int> ans(N);\\\\\\\\n        for(auto idx = 0; idx < N; ++idx) \\\\\\\\n            ans[idx] = start ^ (idx ^(idx >> 1) );\\\\\\\\n       \\\\\\\\n        return ans;\\\\\\\\n \\\\\\\\n    }\\\\\\\\n\",\"creationDate\":1.60769504E9,\"id\":1758268,\"isOwnPost\":false,\"updationDate\":1.60769504E9,\"voteCount\":1,\"voteStatus\":0},\"solutionTags\":[{\"name\":\"C\",\"slug\":\"c\"}],\"subscribed\":false,\"title\":\"C++ gray code\",\"topLevelCommentCount\":0,\"viewCount\":251}},\"id\":968230,\"isFavorite\":false,\"order_by\":\"hot\",\"pinned\":false,\"post\":{\"author\":{\"activeBadge\":{\"displayName\":\"Jun LeetCoding Challenge\",\"icon\":\"/static/images/badges/dcc-2021-6.png\"},\"isActive\":true,\"profile\":{\"reputation\":35,\"userAvatar\":\"https://assets.leetcode.com/users/bobrog/avatar_1601816923.png\"},\"username\":\"michelusa\"},\"creationDate\":1.60769504E9,\"id\":1758268,\"voteCount\":1,\"voteStatus\":0},\"solutionTags\":[{\"name\":\"C\",\"slug\":\"c\"}],\"title\":\"C++ gray code\",\"title_slug\":\"c-gray-code\",\"topLevelCommentCount\":0,\"viewCount\":251}'"
      ]
     },
     "execution_count": 10,
     "metadata": {},
     "output_type": "execute_result"
    }
   ],
   "source": [
    "leetcode_en_solutions[0]['json_']"
   ]
  }
 ],
 "metadata": {
  "kernelspec": {
   "display_name": "Python 3",
   "language": "python",
   "name": "python3"
  },
  "language_info": {
   "codemirror_mode": {
    "name": "ipython",
    "version": 3
   },
   "file_extension": ".py",
   "mimetype": "text/x-python",
   "name": "python",
   "nbconvert_exporter": "python",
   "pygments_lexer": "ipython3",
   "version": "3.10.16"
  }
 },
 "nbformat": 4,
 "nbformat_minor": 2
}
